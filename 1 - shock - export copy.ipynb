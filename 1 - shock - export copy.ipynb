{
 "cells": [
  {
   "cell_type": "markdown",
   "id": "ad379ab4",
   "metadata": {},
   "source": [
    "# Export shock"
   ]
  },
  {
   "cell_type": "markdown",
   "id": "95973735",
   "metadata": {},
   "source": [
    "**Table of contents**<a id='toc0_'></a>    \n",
    "- 1. [Setup](#toc1_)    \n",
    "- 2. [Find steady state and Jacobian](#toc2_)    \n",
    "- 3. [Find IRF](#toc3_)    \n",
    "- 4. [Figures](#toc4_)    \n",
    "  - 4.1. [Effect on Foreign Economy and Prices](#toc4_1_)    \n",
    "  - 4.2. [Effect on Production firms, Phillips-curve and Investments](#toc4_2_)    \n",
    "    - 4.2.1. [Production firms](#toc4_2_1_)    \n",
    "    - 4.2.2. [Phillips-curve](#toc4_2_2_)    \n",
    "    - 4.2.3. [Investments](#toc4_2_3_)    \n",
    "  - 4.3. [Labor market](#toc4_3_)    \n",
    "  - 4.4. [Government](#toc4_4_)    \n",
    "  - 4.5. [Effect on consumption](#toc4_5_)    \n",
    "    - 4.5.1. [Effect on bequest and savings](#toc4_5_1_)    \n",
    "  - 4.6. [Other](#toc4_6_)    \n",
    "    - 4.6.1. [Households - life-cycle](#toc4_6_1_)    \n",
    "    - 4.6.2. [Long-term](#toc4_6_2_)    \n",
    "    - 4.6.3. [National accouting - quantities](#toc4_6_3_)    \n",
    "\n",
    "<!-- vscode-jupyter-toc-config\n",
    "\tnumbering=true\n",
    "\tanchor=true\n",
    "\tflat=false\n",
    "\tminLevel=2\n",
    "\tmaxLevel=6\n",
    "\t/vscode-jupyter-toc-config -->\n",
    "<!-- THIS CELL WILL BE REPLACED ON TOC UPDATE. DO NOT WRITE YOUR TEXT IN THIS CELL -->"
   ]
  },
  {
   "cell_type": "code",
   "execution_count": 22,
   "id": "4b9ffaa1-2f71-40c9-9ec0-2b1a66545d46",
   "metadata": {
    "execution": {
     "iopub.execute_input": "2023-08-28T10:52:35.234083Z",
     "iopub.status.busy": "2023-08-28T10:52:35.233083Z",
     "iopub.status.idle": "2023-08-28T10:52:36.370130Z",
     "shell.execute_reply": "2023-08-28T10:52:36.370130Z"
    }
   },
   "outputs": [
    {
     "name": "stdout",
     "output_type": "stream",
     "text": [
      "The autoreload extension is already loaded. To reload it, use:\n",
      "  %reload_ext autoreload\n"
     ]
    }
   ],
   "source": [
    "%load_ext autoreload\n",
    "%autoreload 2\n",
    "\n",
    "import numpy as np\n",
    "import matplotlib.pyplot as plt   \n",
    "plt.rcParams.update({\"axes.grid\":True,\"grid.color\":\"black\",\"grid.alpha\":\"0.25\",\"grid.linestyle\":\"--\"})\n",
    "prop_cycle = plt.rcParams['axes.prop_cycle']\n",
    "colors = prop_cycle.by_key()['color']\n",
    "\n",
    "from BabyMAKROModel import BabyMAKROModelClass"
   ]
  },
  {
   "cell_type": "markdown",
   "id": "a2b60238",
   "metadata": {},
   "source": [
    "## 1. <a id='toc1_'></a>[Setup](#toc0_)"
   ]
  },
  {
   "cell_type": "code",
   "execution_count": 23,
   "id": "69981f4f-beca-4e00-8373-d7392662625b",
   "metadata": {
    "execution": {
     "iopub.execute_input": "2023-08-28T10:52:36.373140Z",
     "iopub.status.busy": "2023-08-28T10:52:36.373140Z",
     "iopub.status.idle": "2023-08-28T10:52:36.425889Z",
     "shell.execute_reply": "2023-08-28T10:52:36.425477Z"
    }
   },
   "outputs": [],
   "source": [
    "model = BabyMAKROModelClass(name='baseline')           "
   ]
  },
  {
   "attachments": {},
   "cell_type": "markdown",
   "id": "d3601eca",
   "metadata": {},
   "source": [
    "**Unpack namespaces:**"
   ]
  },
  {
   "cell_type": "code",
   "execution_count": 24,
   "id": "b6a42e14-a303-4d94-9afa-b5a6e9d98a48",
   "metadata": {
    "execution": {
     "iopub.execute_input": "2023-08-28T10:52:36.429891Z",
     "iopub.status.busy": "2023-08-28T10:52:36.429891Z",
     "iopub.status.idle": "2023-08-28T10:52:36.477757Z",
     "shell.execute_reply": "2023-08-28T10:52:36.476750Z"
    }
   },
   "outputs": [],
   "source": [
    "par = model.par                 \n",
    "ss = model.ss                   \n",
    "sol = model.sol                "
   ]
  },
  {
   "cell_type": "markdown",
   "id": "07701d57",
   "metadata": {},
   "source": [
    "## 2. <a id='toc2_'></a>[Find steady state and Jacobian](#toc0_)"
   ]
  },
  {
   "attachments": {},
   "cell_type": "markdown",
   "id": "42657287",
   "metadata": {},
   "source": [
    "**Find SS:**"
   ]
  },
  {
   "cell_type": "code",
   "execution_count": 25,
   "id": "a73219e8",
   "metadata": {
    "execution": {
     "iopub.execute_input": "2023-08-28T10:52:36.480828Z",
     "iopub.status.busy": "2023-08-28T10:52:36.480828Z",
     "iopub.status.idle": "2023-08-28T10:52:37.155375Z",
     "shell.execute_reply": "2023-08-28T10:52:37.155375Z"
    }
   },
   "outputs": [],
   "source": [
    "model.find_ss()                 "
   ]
  },
  {
   "attachments": {},
   "cell_type": "markdown",
   "id": "3da65f69",
   "metadata": {},
   "source": [
    "**Jacobian:**"
   ]
  },
  {
   "cell_type": "code",
   "execution_count": 26,
   "id": "59f043bb",
   "metadata": {
    "execution": {
     "iopub.execute_input": "2023-08-28T10:52:37.159591Z",
     "iopub.status.busy": "2023-08-28T10:52:37.159591Z",
     "iopub.status.idle": "2023-08-28T10:54:22.592473Z",
     "shell.execute_reply": "2023-08-28T10:54:22.592473Z"
    }
   },
   "outputs": [],
   "source": [
    "model.compile(do_print=True)"
   ]
  },
  {
   "cell_type": "code",
   "execution_count": null,
   "id": "a24622a5",
   "metadata": {
    "execution": {
     "iopub.execute_input": "2023-08-28T10:54:22.592473Z",
     "iopub.status.busy": "2023-08-28T10:54:22.592473Z",
     "iopub.status.idle": "2023-08-28T10:54:29.069569Z",
     "shell.execute_reply": "2023-08-28T10:54:29.068563Z"
    }
   },
   "outputs": [],
   "source": [
    "model.calc_jac(do_print=True)   "
   ]
  },
  {
   "cell_type": "markdown",
   "id": "9c5d0b98",
   "metadata": {},
   "source": [
    "## 3. <a id='toc3_'></a>[Find IRF](#toc0_)"
   ]
  },
  {
   "attachments": {},
   "cell_type": "markdown",
   "id": "1e7012b8",
   "metadata": {},
   "source": [
    "**Set exogenous variables:**"
   ]
  },
  {
   "cell_type": "code",
   "execution_count": null,
   "id": "e325a3c3",
   "metadata": {
    "execution": {
     "iopub.execute_input": "2023-08-28T10:54:29.075570Z",
     "iopub.status.busy": "2023-08-28T10:54:29.075570Z",
     "iopub.status.idle": "2023-08-28T10:54:29.192310Z",
     "shell.execute_reply": "2023-08-28T10:54:29.191306Z"
    }
   },
   "outputs": [],
   "source": [
    "model.set_exo_ss()              "
   ]
  },
  {
   "attachments": {},
   "cell_type": "markdown",
   "id": "823262e3",
   "metadata": {},
   "source": [
    "**Define shock:**"
   ]
  },
  {
   "cell_type": "code",
   "execution_count": null,
   "id": "bb91b86f",
   "metadata": {
    "execution": {
     "iopub.execute_input": "2023-08-28T10:54:29.200309Z",
     "iopub.status.busy": "2023-08-28T10:54:29.200309Z",
     "iopub.status.idle": "2023-08-28T10:54:29.305177Z",
     "shell.execute_reply": "2023-08-28T10:54:29.305177Z"
    }
   },
   "outputs": [],
   "source": [
    "Tshock = 50                                                                 # length of shock\n",
    "persistence = np.array([0.80**np.arange(Tshock)])                           # persistence of shock       \n",
    "persistence = persistence.reshape((Tshock,1)) \n",
    "Priceshock = 0.005                                                          # size of the price shock\n",
    "\n",
    "model.sol.P_F[:Tshock,:] = model.ss.P_F*(1 + Priceshock*persistence)        # shock to the foreign price\n",
    "model.sol.P_M_C[:Tshock,:] = model.ss.P_M_C*(1 + Priceshock*persistence)    # shock to the consumption import price \n",
    "model.sol.P_M_G[:Tshock,:] = model.ss.P_M_G*(1 + Priceshock*persistence)    # shock to the government consumption import price  \n",
    "model.sol.P_M_I[:Tshock,:] = model.ss.P_M_I*(1 + Priceshock*persistence)    # shock to the investment import price  \n",
    "model.sol.P_M_X[:Tshock,:] = model.ss.P_M_X*(1 + Priceshock*persistence)    # shock to the export import price"
   ]
  },
  {
   "attachments": {},
   "cell_type": "markdown",
   "id": "cd60e5e0",
   "metadata": {},
   "source": [
    "**Find IRF:**"
   ]
  },
  {
   "cell_type": "code",
   "execution_count": null,
   "id": "75b43103",
   "metadata": {
    "execution": {
     "iopub.execute_input": "2023-08-28T10:54:29.310254Z",
     "iopub.status.busy": "2023-08-28T10:54:29.309253Z",
     "iopub.status.idle": "2023-08-28T10:54:32.682521Z",
     "shell.execute_reply": "2023-08-28T10:54:32.682021Z"
    }
   },
   "outputs": [],
   "source": [
    "model.find_IRF()              "
   ]
  },
  {
   "cell_type": "markdown",
   "id": "5018b6dc",
   "metadata": {},
   "source": [
    "## 4. <a id='toc4_'></a>[Figures](#toc0_)"
   ]
  },
  {
   "cell_type": "markdown",
   "id": "45f7499a",
   "metadata": {},
   "source": [
    "### 4.1. <a id='toc4_1_'></a>[Effect on Foreign Economy and Prices](#toc0_)"
   ]
  },
  {
   "cell_type": "code",
   "execution_count": null,
   "id": "0d77c2d7",
   "metadata": {
    "execution": {
     "iopub.execute_input": "2023-08-28T10:54:32.690556Z",
     "iopub.status.busy": "2023-08-28T10:54:32.689542Z",
     "iopub.status.idle": "2023-08-28T10:54:35.519836Z",
     "shell.execute_reply": "2023-08-28T10:54:35.518825Z"
    }
   },
   "outputs": [],
   "source": [
    "model.plot_IRF(varlist=['chi','P_F','P_M_C','P_X','P_Y','P_C', 'X', 'Y', 'M'])"
   ]
  },
  {
   "cell_type": "code",
   "execution_count": null,
   "id": "5a3d1297",
   "metadata": {
    "execution": {
     "iopub.execute_input": "2023-08-28T10:54:35.526077Z",
     "iopub.status.busy": "2023-08-28T10:54:35.524022Z",
     "iopub.status.idle": "2023-08-28T10:54:38.871612Z",
     "shell.execute_reply": "2023-08-28T10:54:38.871612Z"
    }
   },
   "outputs": [],
   "source": [
    "model.plot_IRF(varlist=['X_Y','C_Y','I_Y','G_Y','Y','X_M','C_M','I_M','G_M','M'], ncol = 5)"
   ]
  },
  {
   "cell_type": "markdown",
   "id": "b370f28e",
   "metadata": {},
   "source": [
    "### 4.2. <a id='toc4_2_'></a>[Effect on Production firms, Phillips-curve and Investments](#toc0_)"
   ]
  },
  {
   "cell_type": "markdown",
   "id": "5f7ac59f",
   "metadata": {},
   "source": [
    "#### 4.2.1. <a id='toc4_2_1_'></a>[Production firms](#toc0_)"
   ]
  },
  {
   "cell_type": "code",
   "execution_count": null,
   "id": "92fe920e",
   "metadata": {
    "execution": {
     "iopub.execute_input": "2023-08-28T10:54:38.877625Z",
     "iopub.status.busy": "2023-08-28T10:54:38.877625Z",
     "iopub.status.idle": "2023-08-28T10:54:40.933705Z",
     "shell.execute_reply": "2023-08-28T10:54:40.933705Z"
    }
   },
   "outputs": [],
   "source": [
    "model.plot_IRF(varlist=['Y','K','ell','r_K','r_ell','real_r_K','real_r_ell'])"
   ]
  },
  {
   "cell_type": "markdown",
   "id": "d5ace8e7",
   "metadata": {},
   "source": [
    "#### 4.2.2. <a id='toc4_2_2_'></a>[Phillips-curve](#toc0_)"
   ]
  },
  {
   "cell_type": "code",
   "execution_count": null,
   "id": "3fd290f2",
   "metadata": {
    "execution": {
     "iopub.execute_input": "2023-08-28T10:54:40.936831Z",
     "iopub.status.busy": "2023-08-28T10:54:40.936831Z",
     "iopub.status.idle": "2023-08-28T10:54:41.677737Z",
     "shell.execute_reply": "2023-08-28T10:54:41.677737Z"
    }
   },
   "outputs": [],
   "source": [
    "model.plot_IRF(varlist=['Y','P_Y_0','P_Y'])"
   ]
  },
  {
   "cell_type": "markdown",
   "id": "638e3b71",
   "metadata": {},
   "source": [
    "#### 4.2.3. <a id='toc4_2_3_'></a>[Investments](#toc0_)"
   ]
  },
  {
   "cell_type": "code",
   "execution_count": null,
   "id": "305d70d0",
   "metadata": {
    "execution": {
     "iopub.execute_input": "2023-08-28T10:54:41.677737Z",
     "iopub.status.busy": "2023-08-28T10:54:41.677737Z",
     "iopub.status.idle": "2023-08-28T10:54:42.469000Z",
     "shell.execute_reply": "2023-08-28T10:54:42.467998Z"
    }
   },
   "outputs": [],
   "source": [
    "model.plot_IRF(varlist=['I','K','P_I','r_K'],ncol=2)"
   ]
  },
  {
   "cell_type": "markdown",
   "id": "6cac6ad4",
   "metadata": {},
   "source": [
    "### 4.3. <a id='toc4_3_'></a>[Labor market](#toc0_)"
   ]
  },
  {
   "cell_type": "code",
   "execution_count": null,
   "id": "81797df4",
   "metadata": {
    "execution": {
     "iopub.execute_input": "2023-08-28T10:54:42.472002Z",
     "iopub.status.busy": "2023-08-28T10:54:42.471003Z",
     "iopub.status.idle": "2023-08-28T10:54:44.564211Z",
     "shell.execute_reply": "2023-08-28T10:54:44.564211Z"
    }
   },
   "outputs": [],
   "source": [
    "model.plot_IRF(varlist=['S','L_ubar','v','curlyM','m_v','m_s','delta_L','W','real_W'],abs=['m_v','m_s'])"
   ]
  },
  {
   "cell_type": "markdown",
   "id": "0cd2e1b8",
   "metadata": {},
   "source": [
    "### 4.4. <a id='toc4_4_'></a>[Government](#toc0_)"
   ]
  },
  {
   "cell_type": "code",
   "execution_count": null,
   "id": "09816992",
   "metadata": {
    "execution": {
     "iopub.execute_input": "2023-08-28T10:54:44.568209Z",
     "iopub.status.busy": "2023-08-28T10:54:44.567285Z",
     "iopub.status.idle": "2023-08-28T10:54:45.588521Z",
     "shell.execute_reply": "2023-08-28T10:54:45.587516Z"
    }
   },
   "outputs": [],
   "source": [
    "model.plot_IRF(varlist=['G','B','P_G','tau'],abs=['tau'],Y_share=['B'], ncol=2)"
   ]
  },
  {
   "cell_type": "markdown",
   "id": "0b0d5cbe",
   "metadata": {},
   "source": [
    "### 4.5. <a id='toc4_5_'></a>[Effect on consumption](#toc0_)"
   ]
  },
  {
   "cell_type": "code",
   "execution_count": null,
   "id": "23fc9155",
   "metadata": {
    "execution": {
     "iopub.execute_input": "2023-08-28T10:54:45.592521Z",
     "iopub.status.busy": "2023-08-28T10:54:45.592521Z",
     "iopub.status.idle": "2023-08-28T10:54:47.216786Z",
     "shell.execute_reply": "2023-08-28T10:54:47.215813Z"
    }
   },
   "outputs": [],
   "source": [
    "model.plot_IRF(varlist=['C','C_HtM','C_R','P_C','inc','real_inc'],ncol=3,abs=['real_r_hh'])"
   ]
  },
  {
   "cell_type": "markdown",
   "id": "e9dc1c77",
   "metadata": {},
   "source": [
    "#### 4.5.1. <a id='toc4_5_1_'></a>[Effect on bequest and savings](#toc0_)"
   ]
  },
  {
   "cell_type": "code",
   "execution_count": null,
   "id": "7c503796",
   "metadata": {
    "execution": {
     "iopub.execute_input": "2023-08-28T10:54:47.219862Z",
     "iopub.status.busy": "2023-08-28T10:54:47.218785Z",
     "iopub.status.idle": "2023-08-28T10:54:48.198907Z",
     "shell.execute_reply": "2023-08-28T10:54:48.197907Z"
    }
   },
   "outputs": [],
   "source": [
    "model.plot_IRF(varlist=['real_r_hh','A','Aq'],ncol=3,abs=['real_r_hh'])"
   ]
  },
  {
   "cell_type": "markdown",
   "id": "f3cade77",
   "metadata": {},
   "source": [
    "### 4.6. <a id='toc4_6_'></a>[Other](#toc0_)"
   ]
  },
  {
   "cell_type": "markdown",
   "id": "1f88d36d",
   "metadata": {},
   "source": [
    "#### 4.6.1. <a id='toc4_6_1_'></a>[Households - life-cycle](#toc0_)"
   ]
  },
  {
   "cell_type": "code",
   "execution_count": null,
   "id": "ac73c54d-1f8e-46c0-91ea-8a680266db48",
   "metadata": {
    "execution": {
     "iopub.execute_input": "2023-08-28T10:54:48.201910Z",
     "iopub.status.busy": "2023-08-28T10:54:48.201910Z",
     "iopub.status.idle": "2023-08-28T10:54:49.765493Z",
     "shell.execute_reply": "2023-08-28T10:54:49.764489Z"
    }
   },
   "outputs": [],
   "source": [
    "model.plot_IRF_hh(varlist=['L_a','L_ubar_a','S_a','inc_a','C_a','A_a'],t0_list=[-20,-10,0,10,20])"
   ]
  },
  {
   "cell_type": "markdown",
   "id": "0427d090",
   "metadata": {},
   "source": [
    "#### 4.6.2. <a id='toc4_6_2_'></a>[Long-term](#toc0_)"
   ]
  },
  {
   "cell_type": "code",
   "execution_count": null,
   "id": "f4846b5a",
   "metadata": {
    "execution": {
     "iopub.execute_input": "2023-08-28T10:54:49.769565Z",
     "iopub.status.busy": "2023-08-28T10:54:49.769565Z",
     "iopub.status.idle": "2023-08-28T10:54:51.000928Z",
     "shell.execute_reply": "2023-08-28T10:54:51.000928Z"
    }
   },
   "outputs": [],
   "source": [
    "model.plot_IRF(varlist=['chi','K','Y','C','A','B'],T_IRF=par.T)"
   ]
  },
  {
   "cell_type": "markdown",
   "id": "39f92f6c",
   "metadata": {},
   "source": [
    "#### 4.6.3. <a id='toc4_6_3_'></a>[National accouting - quantities](#toc0_)"
   ]
  },
  {
   "cell_type": "code",
   "execution_count": null,
   "id": "f6506c56",
   "metadata": {
    "execution": {
     "iopub.execute_input": "2023-08-28T10:54:51.003926Z",
     "iopub.status.busy": "2023-08-28T10:54:51.003926Z",
     "iopub.status.idle": "2023-08-28T10:54:52.091246Z",
     "shell.execute_reply": "2023-08-28T10:54:52.090241Z"
    }
   },
   "outputs": [],
   "source": [
    "model.plot_IRF(varlist=['Y','C','G','I','X','M'])"
   ]
  }
 ],
 "metadata": {
  "kernelspec": {
   "display_name": "base",
   "language": "python",
   "name": "python3"
  },
  "language_info": {
   "codemirror_mode": {
    "name": "ipython",
    "version": 3
   },
   "file_extension": ".py",
   "mimetype": "text/x-python",
   "name": "python",
   "nbconvert_exporter": "python",
   "pygments_lexer": "ipython3",
   "version": "3.11.4"
  },
  "toc-autonumbering": true,
  "vscode": {
   "interpreter": {
    "hash": "8e46095560128379321b1ce69ff92c6b7a45fc7d9b830ea022fe373b05aa9725"
   }
  }
 },
 "nbformat": 4,
 "nbformat_minor": 5
}
